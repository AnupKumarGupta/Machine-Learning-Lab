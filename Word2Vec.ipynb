{
  "nbformat": 4,
  "nbformat_minor": 0,
  "metadata": {
    "colab": {
      "name": "Word2Vec.ipynb",
      "provenance": [],
      "collapsed_sections": [],
      "include_colab_link": true
    },
    "kernelspec": {
      "name": "python3",
      "display_name": "Python 3"
    }
  },
  "cells": [
    {
      "cell_type": "markdown",
      "metadata": {
        "id": "view-in-github",
        "colab_type": "text"
      },
      "source": [
        "<a href=\"https://colab.research.google.com/github/fyse-nassar/Machine-Learning-Lab-Assignments/blob/master/Word2Vec.ipynb\" target=\"_parent\"><img src=\"https://colab.research.google.com/assets/colab-badge.svg\" alt=\"Open In Colab\"/></a>"
      ]
    },
    {
      "cell_type": "code",
      "metadata": {
        "id": "6ktMe4ixmlbM",
        "colab_type": "code",
        "colab": {}
      },
      "source": [
        "import numpy as np\n",
        "import pandas as pd\n",
        "from gensim.utils import simple_preprocess as preprocess\n",
        "from gensim.models import Word2Vec\n",
        "\n",
        "\n",
        "# Uncomment below two lines for tracking progress\n",
        "# import logging\n",
        "# logging.basicConfig(format='%(asctime)s : %(levelname)s : %(message)s', level=logging.INFO)\n"
      ],
      "execution_count": 0,
      "outputs": []
    },
    {
      "cell_type": "code",
      "metadata": {
        "colab_type": "code",
        "id": "YCqSG_3kDBFq",
        "colab": {}
      },
      "source": [
        "# Preprocessing the data using the gensim utils package\n",
        "# does tokenization, lower case etc.\n",
        "\n",
        "fileinput = open('sherlock_book.txt', 'r')\n",
        "tokens = [preprocess(i) for i in fileinput]\n",
        "\n",
        "# Removing the empty lists of tokens\n",
        "data = [x for x in tokens if x != []]"
      ],
      "execution_count": 0,
      "outputs": []
    },
    {
      "cell_type": "code",
      "metadata": {
        "id": "1mEqIdMCoj1d",
        "colab_type": "code",
        "colab": {}
      },
      "source": [
        " # Creating the vocabulary model\n",
        " model = Word2Vec(data, window=5, min_count= 2)\n",
        " print(model)"
      ],
      "execution_count": 0,
      "outputs": []
    },
    {
      "cell_type": "code",
      "metadata": {
        "id": "z-59XKkzovKI",
        "colab_type": "code",
        "colab": {}
      },
      "source": [
        "# Training the model\n",
        "model.train(data,total_examples=len(data),epochs=10)"
      ],
      "execution_count": 0,
      "outputs": []
    },
    {
      "cell_type": "code",
      "metadata": {
        "id": "CutH5KUinzMH",
        "colab_type": "code",
        "outputId": "61885a43-ab60-4ac5-c2f0-f75de4317105",
        "colab": {
          "base_uri": "https://localhost:8080/",
          "height": 255
        }
      },
      "source": [
        "# Predicts the 10 closest words to 'original_word'\n",
        "original_word = \"murder\"\n",
        "model.wv.most_similar (positive = original_word)"
      ],
      "execution_count": 71,
      "outputs": [
        {
          "output_type": "stream",
          "text": [
            "2019-10-24 13:28:25,549 : INFO : precomputing L2-norms of word weight vectors\n",
            "/usr/local/lib/python3.6/dist-packages/gensim/matutils.py:737: FutureWarning: Conversion of the second argument of issubdtype from `int` to `np.signedinteger` is deprecated. In future, it will be treated as `np.int64 == np.dtype(int).type`.\n",
            "  if np.issubdtype(vec.dtype, np.int):\n"
          ],
          "name": "stderr"
        },
        {
          "output_type": "execute_result",
          "data": {
            "text/plain": [
              "[('crime', 0.8045181035995483),\n",
              " ('worst', 0.6970624327659607),\n",
              " ('motive', 0.6967130899429321),\n",
              " ('society', 0.6882463097572327),\n",
              " ('evidence', 0.6861438751220703),\n",
              " ('importance', 0.6858481764793396),\n",
              " ('criminal', 0.6730328798294067),\n",
              " ('meaning', 0.6691622734069824),\n",
              " ('true', 0.6675862669944763),\n",
              " ('fact', 0.6630969047546387)]"
            ]
          },
          "metadata": {
            "tags": []
          },
          "execution_count": 71
        }
      ]
    }
  ]
}