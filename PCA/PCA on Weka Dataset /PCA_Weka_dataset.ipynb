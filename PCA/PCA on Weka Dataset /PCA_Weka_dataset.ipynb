{
  "nbformat": 4,
  "nbformat_minor": 0,
  "metadata": {
    "colab": {
      "name": "PCA Weka dataset.ipynb",
      "provenance": [],
      "collapsed_sections": []
    },
    "kernelspec": {
      "name": "python3",
      "display_name": "Python 3"
    }
  },
  "cells": [
    {
      "cell_type": "code",
      "metadata": {
        "id": "bNxcgr9M8Owu",
        "colab_type": "code",
        "outputId": "a969a8d8-c095-4a03-8ac2-08d52f4b34a8",
        "colab": {
          "base_uri": "https://localhost:8080/",
          "height": 34
        }
      },
      "source": [
        "from google.colab import drive\n",
        "drive.mount('/content/drive')"
      ],
      "execution_count": 11,
      "outputs": [
        {
          "output_type": "stream",
          "text": [
            "Drive already mounted at /content/drive; to attempt to forcibly remount, call drive.mount(\"/content/drive\", force_remount=True).\n"
          ],
          "name": "stdout"
        }
      ]
    },
    {
      "cell_type": "code",
      "metadata": {
        "id": "1uZGW9Uc-dMF",
        "colab_type": "code",
        "colab": {}
      },
      "source": [
        "from sklearn.model_selection import train_test_split\n",
        "import pandas as pd \n",
        "\n",
        "path = \"/content/drive/My Drive/Colab Notebooks/Datasets_general/column_3C_weka.csv\"\n",
        "dataFrame = pd.read_csv(path)\n",
        "X = dataFrame.iloc[:,0:-1]\n",
        "y = dataFrame.iloc[:,-1:]"
      ],
      "execution_count": 0,
      "outputs": []
    },
    {
      "cell_type": "code",
      "metadata": {
        "id": "FUgnEnhd-dvj",
        "colab_type": "code",
        "colab": {}
      },
      "source": [
        "from sklearn.model_selection import train_test_split\n",
        "from sklearn.preprocessing import Normalizer\n",
        "\n",
        "X_train, X_test, y_train, y_test = train_test_split(X, y, test_size=0.33, random_state=42)\n",
        "# No requirement of imputation as no null values\n",
        "\n",
        "normalizer = Normalizer().fit(X_train)  \n",
        "X_train = pd.DataFrame(normalizer.transform(X_train))\n",
        "X_test = pd.DataFrame(normalizer.transform(X_test))"
      ],
      "execution_count": 0,
      "outputs": []
    },
    {
      "cell_type": "code",
      "metadata": {
        "id": "-BHqMLn0ChjG",
        "colab_type": "code",
        "outputId": "3357e338-d1a2-4bd1-b88e-25fab6b2d503",
        "colab": {
          "base_uri": "https://localhost:8080/",
          "height": 34
        }
      },
      "source": [
        "from sklearn import svm\n",
        "from sklearn.metrics import confusion_matrix, accuracy_score\n",
        "from sklearn.svm import SVC\n",
        "\n",
        "kernel_svm = svm.SVC(kernel='rbf', gamma='scale')\n",
        "kernel_svm.fit(X_train, y_train.values.ravel())\n",
        "y_pred = kernel_svm.predict(X_test)\n",
        "score = accuracy_score(y_test, y_pred)\n",
        "print(score)"
      ],
      "execution_count": 14,
      "outputs": [
        {
          "output_type": "stream",
          "text": [
            "0.7961165048543689\n"
          ],
          "name": "stdout"
        }
      ]
    },
    {
      "cell_type": "code",
      "metadata": {
        "id": "_zRWLWNpNxJ9",
        "colab_type": "code",
        "colab": {}
      },
      "source": [
        "from sklearn import decomposition\n",
        "\n",
        "number_of_features = X_train.shape[1]\n",
        "accuracy_per_componenet = []\n",
        "componenets = []\n",
        "for i in range (number_of_features):\n",
        "  pca = decomposition.PCA(n_components = i+1)\n",
        "  X_train_reduced = pd.DataFrame(pca.fit_transform(X_train))\n",
        "  X_test_reduced = pd.DataFrame(pca.transform(X_test))\n",
        "  kernel_svm_pca = svm.SVC(kernel='rbf', gamma='scale')\n",
        "  kernel_svm_pca.fit(X_train_reduced, y_train.values.ravel())\n",
        "  y_pred = kernel_svm_pca.predict(X_test_reduced)\n",
        "  score = accuracy_score(y_test, y_pred)\n",
        "  accuracy_per_componenet.append(score)\n",
        "  componenets.append(i+1)"
      ],
      "execution_count": 0,
      "outputs": []
    },
    {
      "cell_type": "code",
      "metadata": {
        "id": "qmydUltqOwz2",
        "colab_type": "code",
        "outputId": "0ab47e1a-f2a3-4320-dbec-20cb179c18e3",
        "colab": {
          "base_uri": "https://localhost:8080/",
          "height": 265
        }
      },
      "source": [
        "import matplotlib.pyplot as plt\n",
        "plt.plot( componenets, accuracy_per_componenet)\n",
        "plt.ylabel('Number of principal components')\n",
        "plt.show()"
      ],
      "execution_count": 16,
      "outputs": [
        {
          "output_type": "display_data",
          "data": {
            "image/png": "[encoded data removed]",
            "text/plain": [
              "<Figure size 432x288 with 1 Axes>"
            ]
          },
          "metadata": {
            "tags": []
          }
        }
      ]
    },
    {
      "cell_type": "code",
      "metadata": {
        "id": "0lqrE3EFRWMp",
        "colab_type": "code",
        "outputId": "9a4e640c-7324-4957-ba1b-a4edb2d6a661",
        "colab": {
          "base_uri": "https://localhost:8080/",
          "height": 34
        }
      },
      "source": [
        "pca = decomposition.PCA(n_components = 'mle',svd_solver='full')\n",
        "X_train_reduced = pd.DataFrame(pca.fit_transform(X_train))\n",
        "X_test_reduced = pd.DataFrame(pca.transform(X_test))\n",
        "kernel_svm_pca = svm.SVC(kernel='rbf', gamma='scale')\n",
        "kernel_svm_pca.fit(X_train_reduced, y_train.values.ravel())\n",
        "y_pred = kernel_svm_pca.predict(X_test_reduced)\n",
        "score = accuracy_score(y_test, y_pred)\n",
        "print(score)"
      ],
      "execution_count": 17,
      "outputs": [
        {
          "output_type": "stream",
          "text": [
            "0.7669902912621359\n"
          ],
          "name": "stdout"
        }
      ]
    }
  ]
}