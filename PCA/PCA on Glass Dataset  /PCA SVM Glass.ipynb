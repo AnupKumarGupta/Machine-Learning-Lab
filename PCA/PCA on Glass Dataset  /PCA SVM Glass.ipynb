{
  "nbformat": 4,
  "nbformat_minor": 0,
  "metadata": {
    "colab": {
      "name": "pca_svm_glass.ipynb",
      "provenance": [],
      "include_colab_link": true
    },
    "kernelspec": {
      "name": "python3",
      "display_name": "Python 3"
    }
  },
  "cells": [
    {
      "cell_type": "markdown",
      "metadata": {
        "id": "view-in-github",
        "colab_type": "text"
      },
      "source": [
        "<a href=\"https://colab.research.google.com/github/fyse-nassar/Machine-Learning-Lab-Assignments/blob/master/pca_svm_glass.ipynb\" target=\"_parent\"><img src=\"https://colab.research.google.com/assets/colab-badge.svg\" alt=\"Open In Colab\"/></a>"
      ]
    },
    {
      "cell_type": "code",
      "metadata": {
        "id": "FFyDW0-i6-Aj",
        "colab_type": "code",
        "colab": {
          "base_uri": "https://localhost:8080/",
          "height": 54
        },
        "outputId": "d8aa3dea-9292-4907-bec3-649d05e6de96"
      },
      "source": [
        "from google.colab import drive\n",
        "drive.mount('/content/drive')"
      ],
      "execution_count": 24,
      "outputs": [
        {
          "output_type": "stream",
          "text": [
            "Drive already mounted at /content/drive; to attempt to forcibly remount, call drive.mount(\"/content/drive\", force_remount=True).\n"
          ],
          "name": "stdout"
        }
      ]
    },
    {
      "cell_type": "code",
      "metadata": {
        "id": "4SLOB5_V7Vk6",
        "colab_type": "code",
        "colab": {}
      },
      "source": [
        "import numpy as np\n",
        "import pandas as pd\n",
        "from sklearn.model_selection import train_test_split\n",
        "from sklearn import preprocessing\n",
        "from sklearn.preprocessing import Normalizer\n",
        "from sklearn.svm import SVC\n",
        "from sklearn.metrics import classification_report, confusion_matrix\n",
        "from sklearn.metrics import accuracy_score\n",
        "from sklearn import decomposition\n",
        "\n",
        "\n",
        "\n",
        "\n",
        "\n"
      ],
      "execution_count": 0,
      "outputs": []
    },
    {
      "cell_type": "code",
      "metadata": {
        "id": "XZPVd3VH7aup",
        "colab_type": "code",
        "colab": {}
      },
      "source": [
        "data = pd.read_csv(\"glass.csv\")\n",
        "\n",
        "X = data.drop(columns = \"Type\")\n",
        "Y = data.iloc[:,-1:]\n",
        "\n",
        "#Check existence of NAN values\n",
        "#data.isnull().sum()\n",
        "\n"
      ],
      "execution_count": 0,
      "outputs": []
    },
    {
      "cell_type": "code",
      "metadata": {
        "id": "EMqf4fmeBItH",
        "colab_type": "code",
        "colab": {}
      },
      "source": [
        "#Splitting data\n",
        "xTrain, xTest, yTrain, yTest = train_test_split(X, Y, test_size = 0.2, random_state = 33)\n",
        "\n",
        "\n"
      ],
      "execution_count": 0,
      "outputs": []
    },
    {
      "cell_type": "code",
      "metadata": {
        "id": "RtWoipbNCuEl",
        "colab_type": "code",
        "colab": {}
      },
      "source": [
        "# Normalizing the training data and storing the transformation parameter 'scalar' to be applied on test data\n",
        "scaler = Normalizer().fit(xTrain)\n",
        "xTrain = scaler.transform(xTrain)\n",
        "xTest = scaler.transform(xTest)\n",
        "\n",
        "\n"
      ],
      "execution_count": 0,
      "outputs": []
    },
    {
      "cell_type": "code",
      "metadata": {
        "id": "urVIPhCqDmns",
        "colab_type": "code",
        "colab": {
          "base_uri": "https://localhost:8080/",
          "height": 70
        },
        "outputId": "9211a8f6-da55-46a2-9475-080fb64bf0de"
      },
      "source": [
        "# SVM without PCA using RBF Kernel\n",
        "\n",
        "svclassifier = SVC(kernel='rbf', gamma='scale')\n",
        "svclassifier.fit(xTrain, yTrain)\n",
        "yPred = svclassifier.predict(xTest)\n",
        "\n",
        "\n",
        "\n"
      ],
      "execution_count": 29,
      "outputs": [
        {
          "output_type": "stream",
          "text": [
            "/usr/local/lib/python3.6/dist-packages/sklearn/utils/validation.py:724: DataConversionWarning: A column-vector y was passed when a 1d array was expected. Please change the shape of y to (n_samples, ), for example using ravel().\n",
            "  y = column_or_1d(y, warn=True)\n"
          ],
          "name": "stderr"
        }
      ]
    },
    {
      "cell_type": "code",
      "metadata": {
        "id": "Xp-8sr88E-z9",
        "colab_type": "code",
        "colab": {
          "base_uri": "https://localhost:8080/",
          "height": 406
        },
        "outputId": "54c972db-ab96-42e1-ca38-46d47a10e466"
      },
      "source": [
        "print(confusion_matrix(yTest,yPred))\n",
        "print(classification_report(yTest,yPred))\n",
        "\n",
        "score1 = accuracy_score(yTest,yPred)\n",
        "print(\"Your Model Accuracy is\", score1)"
      ],
      "execution_count": 30,
      "outputs": [
        {
          "output_type": "stream",
          "text": [
            "[[ 0 10  0  0  0  0]\n",
            " [ 0 15  0  0  0  0]\n",
            " [ 0  4  0  0  0  0]\n",
            " [ 0  4  0  0  0  0]\n",
            " [ 0  2  0  0  0  0]\n",
            " [ 0  8  0  0  0  0]]\n",
            "              precision    recall  f1-score   support\n",
            "\n",
            "           1       0.00      0.00      0.00        10\n",
            "           2       0.35      1.00      0.52        15\n",
            "           3       0.00      0.00      0.00         4\n",
            "           5       0.00      0.00      0.00         4\n",
            "           6       0.00      0.00      0.00         2\n",
            "           7       0.00      0.00      0.00         8\n",
            "\n",
            "    accuracy                           0.35        43\n",
            "   macro avg       0.06      0.17      0.09        43\n",
            "weighted avg       0.12      0.35      0.18        43\n",
            "\n",
            "Your Model Accuracy is 0.3488372093023256\n"
          ],
          "name": "stdout"
        },
        {
          "output_type": "stream",
          "text": [
            "/usr/local/lib/python3.6/dist-packages/sklearn/metrics/classification.py:1437: UndefinedMetricWarning: Precision and F-score are ill-defined and being set to 0.0 in labels with no predicted samples.\n",
            "  'precision', 'predicted', average, warn_for)\n"
          ],
          "name": "stderr"
        }
      ]
    },
    {
      "cell_type": "code",
      "metadata": {
        "id": "4hQrwpVJFBEd",
        "colab_type": "code",
        "colab": {
          "base_uri": "https://localhost:8080/",
          "height": 440
        },
        "outputId": "a4b4842c-4528-4c13-b257-e8c94b6cc1f3"
      },
      "source": [
        "\n",
        "xTrain, xTest, yTrain, yTest = train_test_split(X, Y, test_size = 0.2, random_state = 33)\n",
        "\n",
        "pca = decomposition.PCA(n_components=3)\n",
        "xTrain = pca.fit_transform(xTrain)\n",
        "xTest = pca.transform(xTest)\n",
        "\n",
        "scaler = Normalizer().fit(xTrain)\n",
        "xTrain = scaler.transform(xTrain)\n",
        "xTest = scaler.transform(xTest)\n",
        "\n",
        "\n",
        "svclassifier = SVC(kernel='rbf', gamma='scale')\n",
        "svclassifier.fit(xTrain, yTrain)\n",
        "yPred = svclassifier.predict(xTest)\n",
        "\n",
        "\n",
        "score1 = accuracy_score(yTest,yPred)\n",
        "print(\"Your Model Accuracy is\", score1)\n",
        "\n",
        "print(confusion_matrix(yTest,yPred))\n",
        "print(classification_report(yTest,yPred))"
      ],
      "execution_count": 31,
      "outputs": [
        {
          "output_type": "stream",
          "text": [
            "Your Model Accuracy is 0.5813953488372093\n",
            "[[ 8  2  0  0  0  0]\n",
            " [ 5 10  0  0  0  0]\n",
            " [ 4  0  0  0  0  0]\n",
            " [ 0  3  0  0  0  1]\n",
            " [ 0  2  0  0  0  0]\n",
            " [ 1  0  0  0  0  7]]\n",
            "              precision    recall  f1-score   support\n",
            "\n",
            "           1       0.44      0.80      0.57        10\n",
            "           2       0.59      0.67      0.62        15\n",
            "           3       0.00      0.00      0.00         4\n",
            "           5       0.00      0.00      0.00         4\n",
            "           6       0.00      0.00      0.00         2\n",
            "           7       0.88      0.88      0.88         8\n",
            "\n",
            "    accuracy                           0.58        43\n",
            "   macro avg       0.32      0.39      0.35        43\n",
            "weighted avg       0.47      0.58      0.51        43\n",
            "\n"
          ],
          "name": "stdout"
        },
        {
          "output_type": "stream",
          "text": [
            "/usr/local/lib/python3.6/dist-packages/sklearn/utils/validation.py:724: DataConversionWarning: A column-vector y was passed when a 1d array was expected. Please change the shape of y to (n_samples, ), for example using ravel().\n",
            "  y = column_or_1d(y, warn=True)\n",
            "/usr/local/lib/python3.6/dist-packages/sklearn/metrics/classification.py:1437: UndefinedMetricWarning: Precision and F-score are ill-defined and being set to 0.0 in labels with no predicted samples.\n",
            "  'precision', 'predicted', average, warn_for)\n"
          ],
          "name": "stderr"
        }
      ]
    }
  ]
}