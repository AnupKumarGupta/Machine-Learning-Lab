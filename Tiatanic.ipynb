{
  "nbformat": 4,
  "nbformat_minor": 0,
  "metadata": {
    "colab": {
      "name": "Tiatanic.ipynb",
      "provenance": [],
      "collapsed_sections": [],
      "include_colab_link": true
    },
    "kernelspec": {
      "name": "python3",
      "display_name": "Python 3"
    }
  },
  "cells": [
    {
      "cell_type": "markdown",
      "metadata": {
        "id": "view-in-github",
        "colab_type": "text"
      },
      "source": [
        "<a href=\"https://colab.research.google.com/github/AnupKumarGupta/Machine-Learning-Lab-Assignments/blob/master/Tiatanic.ipynb\" target=\"_parent\"><img src=\"https://colab.research.google.com/assets/colab-badge.svg\" alt=\"Open In Colab\"/></a>"
      ]
    },
    {
      "cell_type": "code",
      "metadata": {
        "id": "cUXTuoCk_2_Y",
        "colab_type": "code",
        "outputId": "5069493c-2a1d-4e25-febb-eb39f343910f",
        "colab": {
          "base_uri": "https://localhost:8080/",
          "height": 122
        }
      },
      "source": [
        "from google.colab import drive\n",
        "drive.mount('/content/drive')"
      ],
      "execution_count": 1,
      "outputs": [
        {
          "output_type": "stream",
          "text": [
            "Go to this URL in a browser: https://accounts.google.com/o/oauth2/auth?client_id=947318989803-6bn6qk8qdgf4n4g3pfee6491hc0brc4i.apps.googleusercontent.com&redirect_uri=urn%3Aietf%3Awg%3Aoauth%3A2.0%3Aoob&scope=email%20https%3A%2F%2Fwww.googleapis.com%2Fauth%2Fdocs.test%20https%3A%2F%2Fwww.googleapis.com%2Fauth%2Fdrive%20https%3A%2F%2Fwww.googleapis.com%2Fauth%2Fdrive.photos.readonly%20https%3A%2F%2Fwww.googleapis.com%2Fauth%2Fpeopleapi.readonly&response_type=code\n",
            "\n",
            "Enter your authorization code:\n",
            "··········\n",
            "Mounted at /content/drive\n"
          ],
          "name": "stdout"
        }
      ]
    },
    {
      "cell_type": "code",
      "metadata": {
        "id": "MJ9Z3zunA5HI",
        "colab_type": "code",
        "colab": {}
      },
      "source": [
        "from sklearn.model_selection import train_test_split\n",
        "from sklearn.impute import SimpleImputer\n",
        "from sklearn.preprocessing import LabelEncoder, OneHotEncoder\n",
        "from sklearn import svm\n",
        "from sklearn.metrics import confusion_matrix\n",
        "from sklearn.linear_model import LogisticRegression\n",
        "import matplotlib.pyplot as plt\n",
        "import seaborn as sn\n",
        "import pandas as pd \n",
        "import numpy as np\n",
        "\n",
        "\n",
        "dataFrameTrain = pd.read_csv(\"/content/drive/My Drive/Colab Notebooks/Dataset_SVM/train.csv\")\n",
        "dataFrameTest = pd.read_csv(\"/content/drive/My Drive/Colab Notebooks/Dataset_SVM/test.csv\")"
      ],
      "execution_count": 0,
      "outputs": []
    },
    {
      "cell_type": "code",
      "metadata": {
        "id": "GXumDwCezYsi",
        "colab_type": "code",
        "outputId": "1f5aec6a-8951-4707-baa1-0bcecc40bd6a",
        "colab": {
          "base_uri": "https://localhost:8080/",
          "height": 306
        }
      },
      "source": [
        "if 'PassengerId' in dataFrameTrain.columns: #To resolve errors, if the columns are already dropped\n",
        "    dataFrameTrain = dataFrameTrain.drop(columns=['PassengerId','Name', 'Ticket', 'Cabin'])\n",
        "if 'PassengerId' in dataFrameTest.columns:\n",
        "    dataFrameTest = dataFrameTest.drop(columns=['PassengerId','Name', 'Ticket', 'Cabin'])    \n",
        "\n",
        "print(dataFrameTrain.isna().any())\n",
        "# Age and Embarked have null values in training data\n",
        "print(dataFrameTest.isna().any())\n",
        "# Age and Fare have null values in training data"
      ],
      "execution_count": 3,
      "outputs": [
        {
          "output_type": "stream",
          "text": [
            "Survived    False\n",
            "Pclass      False\n",
            "Sex         False\n",
            "Age          True\n",
            "SibSp       False\n",
            "Parch       False\n",
            "Fare        False\n",
            "Embarked     True\n",
            "dtype: bool\n",
            "Pclass      False\n",
            "Sex         False\n",
            "Age          True\n",
            "SibSp       False\n",
            "Parch       False\n",
            "Fare         True\n",
            "Embarked    False\n",
            "dtype: bool\n"
          ],
          "name": "stdout"
        }
      ]
    },
    {
      "cell_type": "code",
      "metadata": {
        "id": "SOdObVqku6MC",
        "colab_type": "code",
        "colab": {}
      },
      "source": [
        "X = dataFrameTrain.loc[:, dataFrameTrain.columns != 'Survived'].values\n",
        "Y = dataFrameTrain.loc[:, dataFrameTrain.columns == 'Survived'].values\n",
        "X_unseen = dataFrameTest.loc[:, dataFrameTest.columns != 'Survived'].values"
      ],
      "execution_count": 0,
      "outputs": []
    },
    {
      "cell_type": "code",
      "metadata": {
        "id": "RAy59cS5umHD",
        "colab_type": "code",
        "outputId": "fb193541-b2ba-4f5a-c90e-047667196669",
        "colab": {
          "base_uri": "https://localhost:8080/",
          "height": 289
        }
      },
      "source": [
        "#Imputing Age by Mean for training data\n",
        "imp = SimpleImputer(missing_values=np.nan, strategy='mean')\n",
        "imp = imp.fit(X[:,2:3])\n",
        "X[:,2:3] = imp.transform(X[:,2:3])\n",
        "\n",
        "#Imputing Age of testing data by mean of training data\n",
        "meanAgeTrain = np.mean(X[:,2:3])\n",
        "imp = SimpleImputer(missing_values=np.nan, strategy='constant',fill_value=meanAgeTrain)\n",
        "imp = imp.fit(X_unseen[:,2:3])\n",
        "X_unseen[:,2:3] = imp.transform(X_unseen[:,2:3])\n",
        "\n",
        "#Imputing Age of testing data by Mean of training data\n",
        "meanFareTrain = np.mean(X[:,5:6])\n",
        "imp = SimpleImputer(missing_values=np.nan, strategy='constant',fill_value=meanAgeTrain)\n",
        "imp = imp.fit(X_unseen[:,5:6])\n",
        "X_unseen[:,5:6] = imp.transform(X_unseen[:,5:6])\n",
        "\n",
        "#Imputing Embarked by Most Frequent Occurance for training data\n",
        "imp = SimpleImputer(missing_values=np.nan, strategy='most_frequent')\n",
        "imp = imp.fit(X[:,6:])\n",
        "X[:,6:] = imp.transform(X[:,6:])\n",
        "\n",
        "#checking for NaN values\n",
        "print(pd.DataFrame(X).isna().any())\n",
        "print(pd.DataFrame(X_unseen).isna().any())"
      ],
      "execution_count": 5,
      "outputs": [
        {
          "output_type": "stream",
          "text": [
            "0    False\n",
            "1    False\n",
            "2    False\n",
            "3    False\n",
            "4    False\n",
            "5    False\n",
            "6    False\n",
            "dtype: bool\n",
            "0    False\n",
            "1    False\n",
            "2    False\n",
            "3    False\n",
            "4    False\n",
            "5    False\n",
            "6    False\n",
            "dtype: bool\n"
          ],
          "name": "stdout"
        }
      ]
    },
    {
      "cell_type": "code",
      "metadata": {
        "id": "UqSB2DK2zUyK",
        "colab_type": "code",
        "colab": {}
      },
      "source": [
        "# Encoding Sex for training data\n",
        "labelEncoder = LabelEncoder()\n",
        "labelEncoder.fit(X[:,1:2].ravel())\n",
        "X[:,1:2] = labelEncoder.transform(X[:,1:2].ravel()).reshape(X[:,1:2].shape[0],1) \n",
        "\n",
        "# Encoding Sex for test data\n",
        "labelEncoder.fit(X_unseen[:,1:2].ravel())\n",
        "X_unseen[:,1:2] = labelEncoder.transform(X_unseen[:,1:2].ravel()).reshape(X_unseen[:,1:2].shape[0],1) "
      ],
      "execution_count": 0,
      "outputs": []
    },
    {
      "cell_type": "code",
      "metadata": {
        "id": "z9ilS1RK08ZG",
        "colab_type": "code",
        "colab": {}
      },
      "source": [
        "#Encoding Embarkment for training data\n",
        "labelEncoder = LabelEncoder()\n",
        "labelEncoder.fit(X[:,6:].ravel())\n",
        "X[:,6:] = labelEncoder.transform(X[:,6:].ravel()).reshape(X[:,6:].shape[0],1) \n",
        "\n",
        "#Encoding Embarkment for test data\n",
        "labelEncoder.fit(X_unseen[:,6:].ravel())\n",
        "X_unseen[:,6:] = labelEncoder.transform(X_unseen[:,6:].ravel()).reshape(X_unseen[:,6:].shape[0],1) "
      ],
      "execution_count": 0,
      "outputs": []
    },
    {
      "cell_type": "code",
      "metadata": {
        "id": "NPDddOgOBOSW",
        "colab_type": "code",
        "colab": {}
      },
      "source": [
        "X_train, X_test, y_train, y_test = train_test_split(X, Y, test_size=0.3, random_state=42)"
      ],
      "execution_count": 0,
      "outputs": []
    },
    {
      "cell_type": "code",
      "metadata": {
        "id": "cyvvkIBPzYsz",
        "colab_type": "code",
        "outputId": "f8b9b0ac-dc6e-4111-debc-8f85bf94339f",
        "colab": {
          "base_uri": "https://localhost:8080/",
          "height": 357
        }
      },
      "source": [
        "# Using RBF Kernel SVM model\n",
        "kernel_svm = svm.SVC(kernel='rbf', gamma='scale')\n",
        "kernel_svm.fit(X_train, y_train.ravel())\n",
        "pred = [0] * (X_test.shape[0])\n",
        "for row in range(X_test.shape[0]):  \n",
        "  pred[row] = (kernel_svm.predict(X_test[row].reshape(1, -1)))\n",
        "confusion_matrix_array = confusion_matrix(y_test, pred)\n",
        "TN, FP, FN, TP =confusion_matrix_array.ravel()\n",
        "df_cm = pd.DataFrame(confusion_matrix_array, index = [\"Acctual Negative\",\"Acctual Positive\"],\n",
        "                  columns = [\"Predicited Negative\",\"Predicited Positive\"])\n",
        "plt.figure(figsize = (5,5))\n",
        "sn.heatmap(df_cm, annot=True)\n",
        "print(\"True Positive: {0}, True Negative: {1}, False Positive: {2}, False Negative: {3} \".format(TP,TN,FP,FN))\n",
        "precision = TP/(TP+FP)\n",
        "recall = TP/(TP+FN)\n",
        "accuracy = (TP+TN)/(TP+TN+FP+FN)\n",
        "print(\"Precision {0}, Recall {1}, Accuracy {2}\".format(precision,recall,accuracy))"
      ],
      "execution_count": 13,
      "outputs": [
        {
          "output_type": "stream",
          "text": [
            "True Positive: 29, True Negative: 147, False Positive: 10, False Negative: 82 \n",
            "Precision 0.7435897435897436, Recall 0.26126126126126126, Accuracy 0.6567164179104478\n"
          ],
          "name": "stdout"
        },
        {
          "output_type": "display_data",
          "data": {
            "image/png": "[encoded data removed]",
            "text/plain": [
              "<Figure size 360x360 with 2 Axes>"
            ]
          },
          "metadata": {
            "tags": []
          }
        }
      ]
    },
    {
      "cell_type": "code",
      "metadata": {
        "colab_type": "code",
        "outputId": "3cd2bb08-000d-4f1f-fde4-3cf4e2b05cb5",
        "id": "nnliuRT7xUhS",
        "colab": {
          "base_uri": "https://localhost:8080/",
          "height": 357
        }
      },
      "source": [
        "# Using RBF Kernel SVM model\n",
        "kernel_svm = svm.SVC(kernel='poly', gamma='scale')\n",
        "kernel_svm.fit(X_train, y_train.ravel())\n",
        "pred = [0] * (X_test.shape[0])\n",
        "for row in range(X_test.shape[0]):  \n",
        "  pred[row] = (kernel_svm.predict(X_test[row].reshape(1, -1)))\n",
        "confusion_matrix_array = confusion_matrix(y_test, pred)\n",
        "\n",
        "df_cm = pd.DataFrame(confusion_matrix_array, index = [\"Acctual Negative\",\"Acctual Positive\"],\n",
        "                  columns = [\"Predicited Negative\",\"Predicited Positive\"])\n",
        "plt.figure(figsize = (5,5))\n",
        "sn.heatmap(df_cm,cmap=\"YlGnBu\", annot=True)\n",
        "TN, FP, FN, TP =confusion_matrix_array.ravel()\n",
        "print(\"True Positive: {0}, True Negative: {1}, False Positive: {2}, False Negative: {3} \".format(TP,TN,FP,FN))\n",
        "precision = TP/(TP+FP)\n",
        "recall = TP/(TP+FN)\n",
        "accuracy = (TP+TN)/(TP+TN+FP+FN)\n",
        "print(\"Precision {0}, Recall {1}, Accuracy {2}\".format(precision,recall,accuracy))"
      ],
      "execution_count": 14,
      "outputs": [
        {
          "output_type": "stream",
          "text": [
            "True Positive: 12, True Negative: 152, False Positive: 5, False Negative: 99 \n",
            "Precision 0.7058823529411765, Recall 0.10810810810810811, Accuracy 0.6119402985074627\n"
          ],
          "name": "stdout"
        },
        {
          "output_type": "display_data",
          "data": {
            "image/png": "[encoded data removed]",
            "text/plain": [
              "<Figure size 360x360 with 2 Axes>"
            ]
          },
          "metadata": {
            "tags": []
          }
        }
      ]
    },
    {
      "cell_type": "code",
      "metadata": {
        "id": "CRH223sfrkKC",
        "colab_type": "code",
        "outputId": "26e896f3-c4b4-4f42-87f3-34368e7759d9",
        "colab": {
          "base_uri": "https://localhost:8080/",
          "height": 411
        }
      },
      "source": [
        "# Using Linear SVM model\n",
        "linear_svm = svm.LinearSVC(max_iter=2000)\n",
        "linear_svm.fit(X_train, y_train.ravel())\n",
        "pred = [0] * (X_test.shape[0])\n",
        "for row in range(X_test.shape[0]):  \n",
        "  pred[row] = (linear_svm.predict(X_test[row].reshape(1, -1)))\n",
        "confusion_matrix_array = confusion_matrix(y_test, pred)\n",
        "\n",
        "df_cm = pd.DataFrame(confusion_matrix_array, index = [\"Acctual Negative\",\"Acctual Positive\"],\n",
        "                  columns = [\"Predicited Negative\",\"Predicited Positive\"])\n",
        "plt.figure(figsize = (5,5))\n",
        "sn.heatmap(df_cm, annot=True)\n",
        "TN, FP, FN, TP =confusion_matrix_array.ravel()\n",
        "print(\"True Positive: {0}, True Negative: {1}, False Positive: {2}, False Negative: {3} \".format(TP,TN,FP,FN))\n",
        "precision = TP/(TP+FP)\n",
        "recall = TP/(TP+FN)\n",
        "accuracy = (TP+TN)/(TP+TN+FP+FN)\n",
        "print(\"Precision {0}, Recall {1}, Accuracy {2}\".format(precision,recall,accuracy))"
      ],
      "execution_count": 15,
      "outputs": [
        {
          "output_type": "stream",
          "text": [
            "/usr/local/lib/python3.6/dist-packages/sklearn/svm/base.py:929: ConvergenceWarning: Liblinear failed to converge, increase the number of iterations.\n",
            "  \"the number of iterations.\", ConvergenceWarning)\n"
          ],
          "name": "stderr"
        },
        {
          "output_type": "stream",
          "text": [
            "True Positive: 97, True Negative: 116, False Positive: 41, False Negative: 14 \n",
            "Precision 0.7028985507246377, Recall 0.8738738738738738, Accuracy 0.7947761194029851\n"
          ],
          "name": "stdout"
        },
        {
          "output_type": "display_data",
          "data": {
            "image/png": "[encoded data removed]",
            "text/plain": [
              "<Figure size 360x360 with 2 Axes>"
            ]
          },
          "metadata": {
            "tags": []
          }
        }
      ]
    },
    {
      "cell_type": "code",
      "metadata": {
        "id": "SQyPBGmtuTVF",
        "colab_type": "code",
        "outputId": "98ff2151-68fe-4078-dcf7-1a5d012710e5",
        "colab": {
          "base_uri": "https://localhost:8080/",
          "height": 357
        }
      },
      "source": [
        "# Using Logistic Regression model (Solver - Newton-CG)\n",
        "clf = LogisticRegression(random_state=0, solver='newton-cg').fit(X_train, y_train.ravel())\n",
        "pred = [0] * (X_test.shape[0])\n",
        "for row in range(X_test.shape[0]):  \n",
        "  pred[row] = (linear_svm.predict(X_test[row].reshape(1, -1)))\n",
        "confusion_matrix_array = confusion_matrix(y_test, pred)\n",
        "\n",
        "df_cm = pd.DataFrame(confusion_matrix_array, index = [\"Acctual Negative\",\"Acctual Positive\"],\n",
        "                  columns = [\"Predicited Negative\",\"Predicited Positive\"])\n",
        "plt.figure(figsize = (5,5))\n",
        "sn.heatmap(df_cm, annot=True)\n",
        "TN, FP, FN, TP =confusion_matrix_array.ravel()\n",
        "print(\"True Positive: {0}, True Negative: {1}, False Positive: {2}, False Negative: {3} \".format(TP,TN,FP,FN))\n",
        "precision = TP/(TP+FP)\n",
        "recall = TP/(TP+FN)\n",
        "accuracy = (TP+TN)/(TP+TN+FP+FN)\n",
        "print(\"Precision {0}, Recall {1}, Accuracy {2}\".format(precision,recall,accuracy))"
      ],
      "execution_count": 16,
      "outputs": [
        {
          "output_type": "stream",
          "text": [
            "True Positive: 97, True Negative: 116, False Positive: 41, False Negative: 14 \n",
            "Precision 0.7028985507246377, Recall 0.8738738738738738, Accuracy 0.7947761194029851\n"
          ],
          "name": "stdout"
        },
        {
          "output_type": "display_data",
          "data": {
            "image/png": "[encoded data removed]",
            "text/plain": [
              "<Figure size 360x360 with 2 Axes>"
            ]
          },
          "metadata": {
            "tags": []
          }
        }
      ]
    }
  ]
}