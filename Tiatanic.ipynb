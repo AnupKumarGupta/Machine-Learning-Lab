{
  "nbformat": 4,
  "nbformat_minor": 0,
  "metadata": {
    "colab": {
      "name": "Tiatanic.ipynb",
      "provenance": [],
      "collapsed_sections": [],
      "include_colab_link": true
    },
    "kernelspec": {
      "name": "python3",
      "display_name": "Python 3"
    }
  },
  "cells": [
    {
      "cell_type": "markdown",
      "metadata": {
        "id": "view-in-github",
        "colab_type": "text"
      },
      "source": [
        "<a href=\"https://colab.research.google.com/github/AnupKumarGupta/Machine-Learning-Lab-Assignments/blob/master/Tiatanic.ipynb\" target=\"_parent\"><img src=\"https://colab.research.google.com/assets/colab-badge.svg\" alt=\"Open In Colab\"/></a>"
      ]
    },
    {
      "cell_type": "code",
      "metadata": {
        "id": "cUXTuoCk_2_Y",
        "colab_type": "code",
        "outputId": "6ebf0c5f-5136-4492-959e-82686883eb31",
        "colab": {
          "base_uri": "https://localhost:8080/",
          "height": 122
        }
      },
      "source": [
        "from google.colab import drive\n",
        "drive.mount('/content/drive')"
      ],
      "execution_count": 0,
      "outputs": [
        {
          "output_type": "stream",
          "text": [
            "Go to this URL in a browser: https://accounts.google.com/o/oauth2/auth?client_id=947318989803-6bn6qk8qdgf4n4g3pfee6491hc0brc4i.apps.googleusercontent.com&redirect_uri=urn%3Aietf%3Awg%3Aoauth%3A2.0%3Aoob&scope=email%20https%3A%2F%2Fwww.googleapis.com%2Fauth%2Fdocs.test%20https%3A%2F%2Fwww.googleapis.com%2Fauth%2Fdrive%20https%3A%2F%2Fwww.googleapis.com%2Fauth%2Fdrive.photos.readonly%20https%3A%2F%2Fwww.googleapis.com%2Fauth%2Fpeopleapi.readonly&response_type=code\n",
            "\n",
            "Enter your authorization code:\n",
            "··········\n",
            "Mounted at /content/drive\n"
          ],
          "name": "stdout"
        }
      ]
    },
    {
      "cell_type": "code",
      "metadata": {
        "id": "MJ9Z3zunA5HI",
        "colab_type": "code",
        "colab": {}
      },
      "source": [
        "import numpy as np\n",
        "from sklearn.model_selection import train_test_split\n",
        "from sklearn.impute import SimpleImputer\n",
        "from sklearn.preprocessing import LabelEncoder, OneHotEncoder\n",
        "import pandas as pd \n",
        "import matplotlib.pyplot as plt\n",
        "from sklearn import svm\n",
        "\n",
        "dataFrameTrain = pd.read_csv(\"/content/drive/My Drive/Colab Notebooks/Dataset_SVM/train.csv\")\n",
        "dataFrameTest = pd.read_csv(\"/content/drive/My Drive/Colab Notebooks/Dataset_SVM/test.csv\")"
      ],
      "execution_count": 0,
      "outputs": []
    },
    {
      "cell_type": "code",
      "metadata": {
        "id": "GXumDwCezYsi",
        "colab_type": "code",
        "outputId": "90a680c0-fb25-4057-8741-50fba4ef68f5",
        "colab": {
          "base_uri": "https://localhost:8080/",
          "height": 306
        }
      },
      "source": [
        "if 'PassengerId' in dataFrameTrain.columns: #To resolve errors, if the columns are already dropped\n",
        "    dataFrameTrain = dataFrameTrain.drop(columns=['PassengerId','Name', 'Ticket', 'Cabin'])\n",
        "if 'PassengerId' in dataFrameTest.columns:\n",
        "    dataFrameTest = dataFrameTest.drop(columns=['PassengerId','Name', 'Ticket', 'Cabin'])    \n",
        "\n",
        "print(dataFrameTrain.isna().any())\n",
        "# Age and Embarked have null values in training data\n",
        "print(dataFrameTest.isna().any())\n",
        "# Age and Fare have null values in training data"
      ],
      "execution_count": 159,
      "outputs": [
        {
          "output_type": "stream",
          "text": [
            "Survived    False\n",
            "Pclass      False\n",
            "Sex         False\n",
            "Age          True\n",
            "SibSp       False\n",
            "Parch       False\n",
            "Fare        False\n",
            "Embarked     True\n",
            "dtype: bool\n",
            "Pclass      False\n",
            "Sex         False\n",
            "Age          True\n",
            "SibSp       False\n",
            "Parch       False\n",
            "Fare         True\n",
            "Embarked    False\n",
            "dtype: bool\n"
          ],
          "name": "stdout"
        }
      ]
    },
    {
      "cell_type": "code",
      "metadata": {
        "id": "SOdObVqku6MC",
        "colab_type": "code",
        "colab": {}
      },
      "source": [
        "X = dataFrameTrain.loc[:, dataFrameTrain.columns != 'Survived'].values\n",
        "Y = dataFrameTrain.loc[:, dataFrameTrain.columns == 'Survived'].values\n",
        "X_unseen = dataFrameTest.loc[:, dataFrameTest.columns != 'Survived'].values"
      ],
      "execution_count": 0,
      "outputs": []
    },
    {
      "cell_type": "code",
      "metadata": {
        "id": "RAy59cS5umHD",
        "colab_type": "code",
        "outputId": "f1a9bc46-edbc-44e4-be66-3f88f996ccd6",
        "colab": {
          "base_uri": "https://localhost:8080/",
          "height": 289
        }
      },
      "source": [
        "#Imputing Age by Mean for training data\n",
        "imp = SimpleImputer(missing_values=np.nan, strategy='mean')\n",
        "imp = imp.fit(X[:,2:3])\n",
        "X[:,2:3] = imp.transform(X[:,2:3])\n",
        "\n",
        "#Imputing Age of testing data by mean of training data\n",
        "meanAgeTrain = np.mean(X[:,2:3])\n",
        "imp = SimpleImputer(missing_values=np.nan, strategy='constant',fill_value=meanAgeTrain)\n",
        "imp = imp.fit(X_unseen[:,2:3])\n",
        "X_unseen[:,2:3] = imp.transform(X_unseen[:,2:3])\n",
        "\n",
        "#Imputing Age of testing data by Mean of training data\n",
        "meanFareTrain = np.mean(X[:,5:6])\n",
        "imp = SimpleImputer(missing_values=np.nan, strategy='constant',fill_value=meanAgeTrain)\n",
        "imp = imp.fit(X_unseen[:,5:6])\n",
        "X_unseen[:,5:6] = imp.transform(X_unseen[:,5:6])\n",
        "\n",
        "#Imputing Embarked by Most Frequent Occurance for training data\n",
        "imp = SimpleImputer(missing_values=np.nan, strategy='most_frequent')\n",
        "imp = imp.fit(X[:,6:])\n",
        "X[:,6:] = imp.transform(X[:,6:])\n",
        "\n",
        "#checking for NaN values\n",
        "print(pd.DataFrame(X).isna().any())\n",
        "print(pd.DataFrame(X_unseen).isna().any())"
      ],
      "execution_count": 161,
      "outputs": [
        {
          "output_type": "stream",
          "text": [
            "0    False\n",
            "1    False\n",
            "2    False\n",
            "3    False\n",
            "4    False\n",
            "5    False\n",
            "6    False\n",
            "dtype: bool\n",
            "0    False\n",
            "1    False\n",
            "2    False\n",
            "3    False\n",
            "4    False\n",
            "5    False\n",
            "6    False\n",
            "dtype: bool\n"
          ],
          "name": "stdout"
        }
      ]
    },
    {
      "cell_type": "code",
      "metadata": {
        "id": "UqSB2DK2zUyK",
        "colab_type": "code",
        "colab": {}
      },
      "source": [
        "# Encoding Sex for training data\n",
        "labelEncoder = LabelEncoder()\n",
        "labelEncoder.fit(X[:,1:2].ravel())\n",
        "X[:,1:2] = labelEncoder.transform(X[:,1:2].ravel()).reshape(X[:,1:2].shape[0],1) \n",
        "\n",
        "# Encoding Sex for test data\n",
        "labelEncoder.fit(X_unseen[:,1:2].ravel())\n",
        "X_unseen[:,1:2] = labelEncoder.transform(X_unseen[:,1:2].ravel()).reshape(X_unseen[:,1:2].shape[0],1) "
      ],
      "execution_count": 0,
      "outputs": []
    },
    {
      "cell_type": "code",
      "metadata": {
        "id": "z9ilS1RK08ZG",
        "colab_type": "code",
        "colab": {}
      },
      "source": [
        "#Encoding Embarkment for training data\n",
        "labelEncoder = LabelEncoder()\n",
        "labelEncoder.fit(X[:,6:].ravel())\n",
        "X[:,6:] = labelEncoder.transform(X[:,6:].ravel()).reshape(X[:,6:].shape[0],1) \n",
        "\n",
        "#Encoding Embarkment for test data\n",
        "labelEncoder.fit(X_unseen[:,6:].ravel())\n",
        "X_unseen[:,6:] = labelEncoder.transform(X_unseen[:,6:].ravel()).reshape(X_unseen[:,6:].shape[0],1) "
      ],
      "execution_count": 0,
      "outputs": []
    },
    {
      "cell_type": "code",
      "metadata": {
        "id": "NPDddOgOBOSW",
        "colab_type": "code",
        "colab": {}
      },
      "source": [
        "X_train, X_test, y_train, y_test = train_test_split(X, Y, test_size=0.3, random_state=42)"
      ],
      "execution_count": 0,
      "outputs": []
    },
    {
      "cell_type": "code",
      "metadata": {
        "id": "-t69yof6sfZb",
        "colab_type": "code",
        "outputId": "0f561ec8-2381-4e0c-ff91-7af862b34461",
        "colab": {
          "base_uri": "https://localhost:8080/",
          "height": 85
        }
      },
      "source": [
        "# Kernel SVM\n",
        "kernel_svm = svm.SVC(gamma='scale')\n",
        "kernel_svm.fit(X_train, y_train.ravel())"
      ],
      "execution_count": 180,
      "outputs": [
        {
          "output_type": "execute_result",
          "data": {
            "text/plain": [
              "SVC(C=1.0, cache_size=200, class_weight=None, coef0=0.0,\n",
              "    decision_function_shape='ovr', degree=3, gamma='scale', kernel='rbf',\n",
              "    max_iter=-1, probability=False, random_state=None, shrinking=True,\n",
              "    tol=0.001, verbose=False)"
            ]
          },
          "metadata": {
            "tags": []
          },
          "execution_count": 180
        }
      ]
    },
    {
      "cell_type": "code",
      "metadata": {
        "id": "cyvvkIBPzYsz",
        "colab_type": "code",
        "colab": {
          "base_uri": "https://localhost:8080/",
          "height": 51
        },
        "outputId": "6bc9e64b-a3f3-4bca-873c-44c4cc96b569"
      },
      "source": [
        "TP=FN=FP=TN=0\n",
        "for row in range(X_test.shape[0]):\n",
        "    pred = (kernel_svm.predict(X_test[row].reshape(1, -1)))\n",
        "    if(pred ==1):\n",
        "      if(y_test[row]==1):\n",
        "        TP = TP + 1\n",
        "      else:\n",
        "        FP = FP +1\n",
        "    else:\n",
        "      if(y_test[row]==1):\n",
        "        FN = FN + 1\n",
        "      else:\n",
        "        TN = TN +1\n",
        "print(\"True Positive: {0}, True Negative: {1}, False Positive: {2}, False Negative: {3} \".format(TP,TN,FP,FN))\n",
        "precision = TP/(TP+FP)\n",
        "recall = TP/(TP+FN)\n",
        "print(\"Precision {0}, Recall {1}\".format(precision,recall))"
      ],
      "execution_count": 181,
      "outputs": [
        {
          "output_type": "stream",
          "text": [
            "True Positive: 29, True Negative: 147, False Positive: 10, False Negative: 82 \n",
            "Precision 0.7435897435897436, Recall 0.26126126126126126\n"
          ],
          "name": "stdout"
        }
      ]
    },
    {
      "cell_type": "code",
      "metadata": {
        "id": "p24RLJAEFaLB",
        "colab_type": "code",
        "colab": {
          "base_uri": "https://localhost:8080/",
          "height": 119
        },
        "outputId": "c94ac979-c0a0-420e-e490-db5a23d4a473"
      },
      "source": [
        "# Linear SVM\n",
        "linear_svm = svm.LinearSVC()\n",
        "linear_svm.fit(X_train, y_train.ravel())"
      ],
      "execution_count": 182,
      "outputs": [
        {
          "output_type": "stream",
          "text": [
            "/usr/local/lib/python3.6/dist-packages/sklearn/svm/base.py:929: ConvergenceWarning: Liblinear failed to converge, increase the number of iterations.\n",
            "  \"the number of iterations.\", ConvergenceWarning)\n"
          ],
          "name": "stderr"
        },
        {
          "output_type": "execute_result",
          "data": {
            "text/plain": [
              "LinearSVC(C=1.0, class_weight=None, dual=True, fit_intercept=True,\n",
              "          intercept_scaling=1, loss='squared_hinge', max_iter=1000,\n",
              "          multi_class='ovr', penalty='l2', random_state=None, tol=0.0001,\n",
              "          verbose=0)"
            ]
          },
          "metadata": {
            "tags": []
          },
          "execution_count": 182
        }
      ]
    },
    {
      "cell_type": "code",
      "metadata": {
        "id": "aElH9fCeElfO",
        "colab_type": "code",
        "colab": {
          "base_uri": "https://localhost:8080/",
          "height": 51
        },
        "outputId": "0747e8d9-8591-40e1-e502-0b368d0eaead"
      },
      "source": [
        "TP=FN=FP=TN=0\n",
        "for row in range(X_test.shape[0]):\n",
        "    pred = (linear_svm.predict(X_test[row].reshape(1, -1)))\n",
        "    if(pred ==1):\n",
        "      if(y_test[row]==1):\n",
        "        TP = TP + 1\n",
        "      else:\n",
        "        FP = FP +1\n",
        "    else:\n",
        "      if(y_test[row]==1):\n",
        "        FN = FN + 1\n",
        "      else:\n",
        "        TN = TN +1\n",
        "print(\"True Positive: {0}, True Negative: {1}, False Positive: {2}, False Negative: {3} \".format(TP,TN,FP,FN))\n",
        "precision = TP/(TP+FP)\n",
        "recall = TP/(TP+FN)\n",
        "print(\"Precision {0}, Recall {1}\".format(precision,recall))"
      ],
      "execution_count": 183,
      "outputs": [
        {
          "output_type": "stream",
          "text": [
            "True Positive: 99, True Negative: 105, False Positive: 52, False Negative: 12 \n",
            "Precision 0.6556291390728477, Recall 0.8918918918918919\n"
          ],
          "name": "stdout"
        }
      ]
    }
  ]
}