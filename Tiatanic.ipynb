{
  "nbformat": 4,
  "nbformat_minor": 0,
  "metadata": {
    "colab": {
      "name": "Tiatanic.ipynb",
      "provenance": [],
      "collapsed_sections": []
    },
    "kernelspec": {
      "name": "python3",
      "display_name": "Python 3"
    }
  },
  "cells": [
    {
      "cell_type": "code",
      "metadata": {
        "id": "cUXTuoCk_2_Y",
        "colab_type": "code",
        "outputId": "6d98da5e-9ea9-40c9-cfc4-d9c8396d233b",
        "colab": {
          "base_uri": "https://localhost:8080/",
          "height": 34
        }
      },
      "source": [
        "from google.colab import drive\n",
        "drive.mount('/content/drive')"
      ],
      "execution_count": 1,
      "outputs": [
        {
          "output_type": "stream",
          "text": [
            "Drive already mounted at /content/drive; to attempt to forcibly remount, call drive.mount(\"/content/drive\", force_remount=True).\n"
          ],
          "name": "stdout"
        }
      ]
    },
    {
      "cell_type": "code",
      "metadata": {
        "id": "MJ9Z3zunA5HI",
        "colab_type": "code",
        "colab": {}
      },
      "source": [
        "from sklearn.model_selection import train_test_split\n",
        "from sklearn.impute import SimpleImputer\n",
        "from sklearn.preprocessing import LabelEncoder, OneHotEncoder\n",
        "from sklearn import svm\n",
        "from sklearn.metrics import confusion_matrix\n",
        "from sklearn.linear_model import LogisticRegression\n",
        "import matplotlib.pyplot as plt\n",
        "import seaborn as sn\n",
        "import pandas as pd \n",
        "import numpy as np\n",
        "\n",
        "\n",
        "dataFrameTrain = pd.read_csv(\"/content/drive/My Drive/Colab Notebooks/Dataset_SVM/train.csv\")\n",
        "dataFrameTest = pd.read_csv(\"/content/drive/My Drive/Colab Notebooks/Dataset_SVM/test.csv\")"
      ],
      "execution_count": 0,
      "outputs": []
    },
    {
      "cell_type": "code",
      "metadata": {
        "id": "GXumDwCezYsi",
        "colab_type": "code",
        "outputId": "6b067ea9-e1e6-42f0-b1f6-7bf69f7f1d2a",
        "colab": {
          "base_uri": "https://localhost:8080/",
          "height": 306
        }
      },
      "source": [
        "if 'PassengerId' in dataFrameTrain.columns: #To resolve errors, if the columns are already dropped\n",
        "    dataFrameTrain = dataFrameTrain.drop(columns=['PassengerId','Name', 'Ticket', 'Cabin'])\n",
        "if 'PassengerId' in dataFrameTest.columns:\n",
        "    dataFrameTest = dataFrameTest.drop(columns=['PassengerId','Name', 'Ticket', 'Cabin'])    \n",
        "\n",
        "print(dataFrameTrain.isna().any())\n",
        "# Age and Embarked have null values in training data\n",
        "print(dataFrameTest.isna().any())\n",
        "# Age and Fare have null values in training data"
      ],
      "execution_count": 3,
      "outputs": [
        {
          "output_type": "stream",
          "text": [
            "Survived    False\n",
            "Pclass      False\n",
            "Sex         False\n",
            "Age          True\n",
            "SibSp       False\n",
            "Parch       False\n",
            "Fare        False\n",
            "Embarked     True\n",
            "dtype: bool\n",
            "Pclass      False\n",
            "Sex         False\n",
            "Age          True\n",
            "SibSp       False\n",
            "Parch       False\n",
            "Fare         True\n",
            "Embarked    False\n",
            "dtype: bool\n"
          ],
          "name": "stdout"
        }
      ]
    },
    {
      "cell_type": "code",
      "metadata": {
        "id": "SOdObVqku6MC",
        "colab_type": "code",
        "colab": {}
      },
      "source": [
        "X = dataFrameTrain.loc[:, dataFrameTrain.columns != 'Survived'].values\n",
        "Y = dataFrameTrain.loc[:, dataFrameTrain.columns == 'Survived'].values\n",
        "X_unseen = dataFrameTest.loc[:, dataFrameTest.columns != 'Survived'].values"
      ],
      "execution_count": 0,
      "outputs": []
    },
    {
      "cell_type": "code",
      "metadata": {
        "id": "RAy59cS5umHD",
        "colab_type": "code",
        "outputId": "8f595d2b-1dab-4c60-e309-1604d558aa80",
        "colab": {
          "base_uri": "https://localhost:8080/",
          "height": 289
        }
      },
      "source": [
        "#Imputing Age by Mean for training data\n",
        "imp = SimpleImputer(missing_values=np.nan, strategy='mean')\n",
        "imp = imp.fit(X[:,2:3])\n",
        "X[:,2:3] = imp.transform(X[:,2:3])\n",
        "\n",
        "#Imputing Age of testing data by mean of training data\n",
        "meanAgeTrain = np.mean(X[:,2:3])\n",
        "imp = SimpleImputer(missing_values=np.nan, strategy='constant',fill_value=meanAgeTrain)\n",
        "imp = imp.fit(X_unseen[:,2:3])\n",
        "X_unseen[:,2:3] = imp.transform(X_unseen[:,2:3])\n",
        "\n",
        "#Imputing Age of testing data by Mean of training data\n",
        "meanFareTrain = np.mean(X[:,5:6])\n",
        "imp = SimpleImputer(missing_values=np.nan, strategy='constant',fill_value=meanAgeTrain)\n",
        "imp = imp.fit(X_unseen[:,5:6])\n",
        "X_unseen[:,5:6] = imp.transform(X_unseen[:,5:6])\n",
        "\n",
        "#Imputing Embarked by Most Frequent Occurance for training data\n",
        "imp = SimpleImputer(missing_values=np.nan, strategy='most_frequent')\n",
        "imp = imp.fit(X[:,6:])\n",
        "X[:,6:] = imp.transform(X[:,6:])\n",
        "\n",
        "#checking for NaN values\n",
        "print(pd.DataFrame(X).isna().any())\n",
        "print(pd.DataFrame(X_unseen).isna().any())"
      ],
      "execution_count": 5,
      "outputs": [
        {
          "output_type": "stream",
          "text": [
            "0    False\n",
            "1    False\n",
            "2    False\n",
            "3    False\n",
            "4    False\n",
            "5    False\n",
            "6    False\n",
            "dtype: bool\n",
            "0    False\n",
            "1    False\n",
            "2    False\n",
            "3    False\n",
            "4    False\n",
            "5    False\n",
            "6    False\n",
            "dtype: bool\n"
          ],
          "name": "stdout"
        }
      ]
    },
    {
      "cell_type": "code",
      "metadata": {
        "id": "UqSB2DK2zUyK",
        "colab_type": "code",
        "colab": {}
      },
      "source": [
        "# Encoding Sex for training data\n",
        "labelEncoder = LabelEncoder()\n",
        "labelEncoder.fit(X[:,1:2].ravel())\n",
        "X[:,1:2] = labelEncoder.transform(X[:,1:2].ravel()).reshape(X[:,1:2].shape[0],1) \n",
        "\n",
        "# Encoding Sex for test data\n",
        "labelEncoder.fit(X_unseen[:,1:2].ravel())\n",
        "X_unseen[:,1:2] = labelEncoder.transform(X_unseen[:,1:2].ravel()).reshape(X_unseen[:,1:2].shape[0],1) "
      ],
      "execution_count": 0,
      "outputs": []
    },
    {
      "cell_type": "code",
      "metadata": {
        "id": "z9ilS1RK08ZG",
        "colab_type": "code",
        "colab": {}
      },
      "source": [
        "#Encoding Embarkment for training data\n",
        "labelEncoder = LabelEncoder()\n",
        "labelEncoder.fit(X[:,6:].ravel())\n",
        "X[:,6:] = labelEncoder.transform(X[:,6:].ravel()).reshape(X[:,6:].shape[0],1) \n",
        "\n",
        "#Encoding Embarkment for test data\n",
        "labelEncoder.fit(X_unseen[:,6:].ravel())\n",
        "X_unseen[:,6:] = labelEncoder.transform(X_unseen[:,6:].ravel()).reshape(X_unseen[:,6:].shape[0],1) "
      ],
      "execution_count": 0,
      "outputs": []
    },
    {
      "cell_type": "code",
      "metadata": {
        "id": "NPDddOgOBOSW",
        "colab_type": "code",
        "colab": {}
      },
      "source": [
        "X_train, X_test, y_train, y_test = train_test_split(X, Y, test_size=0.3, random_state=42)"
      ],
      "execution_count": 0,
      "outputs": []
    },
    {
      "cell_type": "code",
      "metadata": {
        "id": "cyvvkIBPzYsz",
        "colab_type": "code",
        "outputId": "29b58016-ad6b-4e83-cbff-3c6d2c09fe89",
        "colab": {
          "base_uri": "https://localhost:8080/",
          "height": 357
        }
      },
      "source": [
        "# Using RBF Kernel SVM model\n",
        "kernel_svm = svm.SVC(kernel='rbf', gamma='scale')\n",
        "kernel_svm.fit(X_train, y_train.ravel())\n",
        "pred = [0] * (X_test.shape[0])\n",
        "for row in range(X_test.shape[0]):  \n",
        "  pred[row] = (kernel_svm.predict(X_test[row].reshape(1, -1)))\n",
        "confusion_matrix_array = confusion_matrix(y_test, pred)\n",
        "TN, FP, FN, TP =confusion_matrix_array.ravel()\n",
        "df_cm = pd.DataFrame(confusion_matrix_array, index = [\"Acctual Negative\",\"Acctual Positive\"],\n",
        "                  columns = [\"Predicited Negative\",\"Predicited Positive\"])\n",
        "plt.figure(figsize = (5,5))\n",
        "sn.heatmap(df_cm, annot=True)\n",
        "print(\"True Positive: {0}, True Negative: {1}, False Positive: {2}, False Negative: {3} \".format(TP,TN,FP,FN))\n",
        "precision = TP/(TP+FP)\n",
        "recall = TP/(TP+FN)\n",
        "print(\"Precision {0}, Recall {1}\".format(precision,recall))"
      ],
      "execution_count": 9,
      "outputs": [
        {
          "output_type": "stream",
          "text": [
            "True Positive: 29, True Negative: 147, False Positive: 10, False Negative: 82 \n",
            "Precision 0.7435897435897436, Recall 0.26126126126126126\n"
          ],
          "name": "stdout"
        },
        {
          "output_type": "display_data",
          "data": {
            "image/png": "[encoded data removed]",
            "text/plain": [
              "<Figure size 360x360 with 2 Axes>"
            ]
          },
          "metadata": {
            "tags": []
          }
        }
      ]
    },
    {
      "cell_type": "code",
      "metadata": {
        "colab_type": "code",
        "outputId": "e1075ea2-1211-4cb5-b8cd-42a8dd922e15",
        "id": "nnliuRT7xUhS",
        "colab": {
          "base_uri": "https://localhost:8080/",
          "height": 357
        }
      },
      "source": [
        "# Using RBF Kernel SVM model\n",
        "kernel_svm = svm.SVC(kernel='poly', gamma='scale')\n",
        "kernel_svm.fit(X_train, y_train.ravel())\n",
        "pred = [0] * (X_test.shape[0])\n",
        "for row in range(X_test.shape[0]):  \n",
        "  pred[row] = (kernel_svm.predict(X_test[row].reshape(1, -1)))\n",
        "confusion_matrix_array = confusion_matrix(y_test, pred)\n",
        "\n",
        "df_cm = pd.DataFrame(confusion_matrix_array, index = [\"Acctual Negative\",\"Acctual Positive\"],\n",
        "                  columns = [\"Predicited Negative\",\"Predicited Positive\"])\n",
        "plt.figure(figsize = (5,5))\n",
        "sn.heatmap(df_cm,cmap=\"YlGnBu\", annot=True)\n",
        "TN, FP, FN, TP =confusion_matrix_array.ravel()\n",
        "print(\"True Positive: {0}, True Negative: {1}, False Positive: {2}, False Negative: {3} \".format(TP,TN,FP,FN))\n",
        "precision = TP/(TP+FP)\n",
        "recall = TP/(TP+FN)\n",
        "print(\"Precision {0}, Recall {1}\".format(precision,recall))"
      ],
      "execution_count": 10,
      "outputs": [
        {
          "output_type": "stream",
          "text": [
            "True Positive: 12, True Negative: 152, False Positive: 5, False Negative: 99 \n",
            "Precision 0.7058823529411765, Recall 0.10810810810810811\n"
          ],
          "name": "stdout"
        },
        {
          "output_type": "display_data",
          "data": {
            "image/png": "[encoded data removed]",
            "text/plain": [
              "<Figure size 360x360 with 2 Axes>"
            ]
          },
          "metadata": {
            "tags": []
          }
        }
      ]
    },
    {
      "cell_type": "code",
      "metadata": {
        "id": "CRH223sfrkKC",
        "colab_type": "code",
        "colab": {
          "base_uri": "https://localhost:8080/",
          "height": 391
        },
        "outputId": "b98b6604-d311-48c1-e560-c2ce3eb2e9c1"
      },
      "source": [
        "# Using Linear SVM model\n",
        "linear_svm = svm.LinearSVC(max_iter=2000)\n",
        "linear_svm.fit(X_train, y_train.ravel())\n",
        "pred = [0] * (X_test.shape[0])\n",
        "for row in range(X_test.shape[0]):  \n",
        "  pred[row] = (linear_svm.predict(X_test[row].reshape(1, -1)))\n",
        "confusion_matrix_array = confusion_matrix(y_test, pred)\n",
        "\n",
        "df_cm = pd.DataFrame(confusion_matrix_array, index = [\"Acctual Negative\",\"Acctual Positive\"],\n",
        "                  columns = [\"Predicited Negative\",\"Predicited Positive\"])\n",
        "plt.figure(figsize = (5,5))\n",
        "sn.heatmap(df_cm, annot=True)\n",
        "TN, FP, FN, TP =confusion_matrix_array.ravel()\n",
        "print(\"True Positive: {0}, True Negative: {1}, False Positive: {2}, False Negative: {3} \".format(TP,TN,FP,FN))\n",
        "precision = TP/(TP+FP)\n",
        "recall = TP/(TP+FN)\n",
        "print(\"Precision {0}, Recall {1}\".format(precision,recall))"
      ],
      "execution_count": 11,
      "outputs": [
        {
          "output_type": "stream",
          "text": [
            "/usr/local/lib/python3.6/dist-packages/sklearn/svm/base.py:929: ConvergenceWarning: Liblinear failed to converge, increase the number of iterations.\n",
            "  \"the number of iterations.\", ConvergenceWarning)\n"
          ],
          "name": "stderr"
        },
        {
          "output_type": "stream",
          "text": [
            "True Positive: 99, True Negative: 108, False Positive: 49, False Negative: 12 \n",
            "Precision 0.668918918918919, Recall 0.8918918918918919\n"
          ],
          "name": "stdout"
        },
        {
          "output_type": "display_data",
          "data": {
            "image/png": "[encoded data removed]",
            "text/plain": [
              "<Figure size 360x360 with 2 Axes>"
            ]
          },
          "metadata": {
            "tags": []
          }
        }
      ]
    },
    {
      "cell_type": "code",
      "metadata": {
        "id": "SQyPBGmtuTVF",
        "colab_type": "code",
        "colab": {
          "base_uri": "https://localhost:8080/",
          "height": 357
        },
        "outputId": "1c6c0664-2409-4e58-cb27-d8262d3f1698"
      },
      "source": [
        "# Using Logistic Regression model (Solver - Newton-CG)\n",
        "clf = LogisticRegression(random_state=0, solver='newton-cg').fit(X_train, y_train.ravel())\n",
        "pred = [0] * (X_test.shape[0])\n",
        "for row in range(X_test.shape[0]):  \n",
        "  pred[row] = (linear_svm.predict(X_test[row].reshape(1, -1)))\n",
        "confusion_matrix_array = confusion_matrix(y_test, pred)\n",
        "\n",
        "df_cm = pd.DataFrame(confusion_matrix_array, index = [\"Acctual Negative\",\"Acctual Positive\"],\n",
        "                  columns = [\"Predicited Negative\",\"Predicited Positive\"])\n",
        "plt.figure(figsize = (5,5))\n",
        "sn.heatmap(df_cm, annot=True)\n",
        "TN, FP, FN, TP =confusion_matrix_array.ravel()\n",
        "print(\"True Positive: {0}, True Negative: {1}, False Positive: {2}, False Negative: {3} \".format(TP,TN,FP,FN))\n",
        "precision = TP/(TP+FP)\n",
        "recall = TP/(TP+FN)\n",
        "print(\"Precision {0}, Recall {1}\".format(precision,recall))"
      ],
      "execution_count": 12,
      "outputs": [
        {
          "output_type": "stream",
          "text": [
            "True Positive: 99, True Negative: 108, False Positive: 49, False Negative: 12 \n",
            "Precision 0.668918918918919, Recall 0.8918918918918919\n"
          ],
          "name": "stdout"
        },
        {
          "output_type": "display_data",
          "data": {
            "image/png": "[encoded data removed]",
            "text/plain": [
              "<Figure size 360x360 with 2 Axes>"
            ]
          },
          "metadata": {
            "tags": []
          }
        }
      ]
    }
  ]
}